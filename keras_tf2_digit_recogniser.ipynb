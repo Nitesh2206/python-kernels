{
  "nbformat": 4,
  "nbformat_minor": 0,
  "metadata": {
    "colab": {
      "name": "keras tf2 fashion ",
      "provenance": [],
      "collapsed_sections": [],
      "include_colab_link": true
    },
    "kernelspec": {
      "name": "python3",
      "display_name": "Python 3"
    },
    "accelerator": "GPU"
  },
  "cells": [
    {
      "cell_type": "markdown",
      "metadata": {
        "id": "view-in-github",
        "colab_type": "text"
      },
      "source": [
        "<a href=\"https://colab.research.google.com/github/Nitesh2206/python-kernels/blob/master/keras_tf2_digit_recogniser.ipynb\" target=\"_parent\"><img src=\"https://colab.research.google.com/assets/colab-badge.svg\" alt=\"Open In Colab\"/></a>"
      ]
    },
    {
      "cell_type": "code",
      "metadata": {
        "id": "ljpaxkPeJmbM",
        "colab_type": "code",
        "outputId": "be749f98-7cd5-4304-9a17-a0c9de9dba88",
        "colab": {
          "base_uri": "https://localhost:8080/",
          "height": 81
        }
      },
      "source": [
        "# Importing Libraries\n",
        "import tensorflow as tf\n",
        "from tensorflow import keras\n",
        "import numpy as np\n",
        "import pandas as pd\n",
        "import matplotlib.pyplot as plt\n",
        "from sklearn.metrics import accuracy_score,confusion_matrix\n",
        "from keras.utils import to_categorical\n",
        "from sklearn.model_selection import train_test_split\n",
        "import seaborn as sns\n",
        "from keras.preprocessing.image import ImageDataGenerator"
      ],
      "execution_count": 0,
      "outputs": [
        {
          "output_type": "display_data",
          "data": {
            "text/html": [
              "<p style=\"color: red;\">\n",
              "The default version of TensorFlow in Colab will soon switch to TensorFlow 2.x.<br>\n",
              "We recommend you <a href=\"https://www.tensorflow.org/guide/migrate\" target=\"_blank\">upgrade</a> now \n",
              "or ensure your notebook will continue to use TensorFlow 1.x via the <code>%tensorflow_version 1.x</code> magic:\n",
              "<a href=\"https://colab.research.google.com/notebooks/tensorflow_version.ipynb\" target=\"_blank\">more info</a>.</p>\n"
            ],
            "text/plain": [
              "<IPython.core.display.HTML object>"
            ]
          },
          "metadata": {
            "tags": []
          }
        },
        {
          "output_type": "stream",
          "text": [
            "Using TensorFlow backend.\n"
          ],
          "name": "stderr"
        }
      ]
    },
    {
      "cell_type": "code",
      "metadata": {
        "id": "XDeUIZPj6bbU",
        "colab_type": "code",
        "outputId": "5c4dfc6e-7e36-48d3-824a-a2ad71eb8096",
        "colab": {
          "base_uri": "https://localhost:8080/",
          "height": 105
        }
      },
      "source": [
        "# Connect to kaggle datasets\n",
        "import os\n",
        "os.environ['KAGGLE_USERNAME'] = \"nitesh2206\" # username from the json file \n",
        "os.environ['KAGGLE_KEY'] = \"sscc\" \n",
        "!kaggle competitions download -c digit-recognizer\n",
        "\n",
        "train_data = pd.read_csv(\"../content/train.csv\")\n",
        "test_data = pd.read_csv(\"../content/test.csv\")\n",
        "(train_data.shape,test_data.shape)"
      ],
      "execution_count": 0,
      "outputs": [
        {
          "output_type": "stream",
          "text": [
            "Warning: Looks like you're using an outdated API Version, please consider updating (server 1.5.6 / client 1.5.4)\n",
            "train.csv: Skipping, found more recently modified local copy (use --force to force download)\n",
            "test.csv: Skipping, found more recently modified local copy (use --force to force download)\n",
            "sample_submission.csv: Skipping, found more recently modified local copy (use --force to force download)\n"
          ],
          "name": "stdout"
        },
        {
          "output_type": "execute_result",
          "data": {
            "text/plain": [
              "((42000, 785), (28000, 784))"
            ]
          },
          "metadata": {
            "tags": []
          },
          "execution_count": 2
        }
      ]
    },
    {
      "cell_type": "code",
      "metadata": {
        "id": "XTm10p1b4OJ4",
        "colab_type": "code",
        "outputId": "f0defd4b-10ee-499b-e300-db11e3e71e0d",
        "colab": {
          "base_uri": "https://localhost:8080/",
          "height": 34
        }
      },
      "source": [
        "# get data from mnist and combine both training and test data\n",
        "data = keras.datasets.mnist\n",
        "(train_images, train_labels), (test_images, test_labels) = data.load_data()\n",
        "mnist_train_images = np.concatenate((train_images, test_images))\n",
        "mnist_train_labels = np.concatenate((train_labels, test_labels))\n",
        "(mnist_train_images.shape,mnist_train_labels.shape)"
      ],
      "execution_count": 0,
      "outputs": [
        {
          "output_type": "execute_result",
          "data": {
            "text/plain": [
              "((70000, 28, 28), (70000,))"
            ]
          },
          "metadata": {
            "tags": []
          },
          "execution_count": 31
        }
      ]
    },
    {
      "cell_type": "code",
      "metadata": {
        "id": "v_g1t7jPffev",
        "colab_type": "code",
        "outputId": "bb062fa6-3684-4002-b15a-5b904dd9e30b",
        "colab": {
          "base_uri": "https://localhost:8080/",
          "height": 34
        }
      },
      "source": [
        "# combine data from mnist and competition training for bigger training set\n",
        "x = np.array(train_data.drop(['label'], axis = 1))\n",
        "y = np.array(train_data['label'])\n",
        "test_data = np.array(test_data)\n",
        "\n",
        "x = x.reshape((x.shape[0], 28, 28))\n",
        "test_data = test_data.reshape(test_data.shape[0], 28, 28)\n",
        "\n",
        "x = np.concatenate((x, mnist_train_images))\n",
        "y = np.concatenate((y, mnist_train_labels))\n",
        "\n",
        "x = x/255.0\n",
        "test_data = test_data/255.0\n",
        "\n",
        "print(x.shape, y.shape, test_data.shape)"
      ],
      "execution_count": 0,
      "outputs": [
        {
          "output_type": "stream",
          "text": [
            "(112000, 28, 28) (112000,) (28000, 28, 28)\n"
          ],
          "name": "stdout"
        }
      ]
    },
    {
      "cell_type": "code",
      "metadata": {
        "id": "qo2GSJySqIeb",
        "colab_type": "code",
        "outputId": "423e2cf8-7d01-40ed-8a61-ed98d75e2283",
        "colab": {
          "base_uri": "https://localhost:8080/",
          "height": 34
        }
      },
      "source": [
        "# split to training and validation set\n",
        "x_train, x_test, y_train, y_test = train_test_split(x, y, test_size = 0.10, shuffle = True)\n",
        "print(x_train.shape, y_train.shape, x_test.shape, y_test.shape)"
      ],
      "execution_count": 0,
      "outputs": [
        {
          "output_type": "stream",
          "text": [
            "(100800, 28, 28) (100800,) (11200, 28, 28) (11200,)\n"
          ],
          "name": "stdout"
        }
      ]
    },
    {
      "cell_type": "code",
      "metadata": {
        "id": "LBFYiPNOMcY8",
        "colab_type": "code",
        "colab": {}
      },
      "source": [
        "# create the model\n",
        "model = keras.Sequential([\n",
        "                          keras.layers.Flatten(input_shape=(28,28)),\n",
        "                          keras.layers.Dense(128,activation=\"relu\"),\n",
        "                          keras.layers.Dense(10,activation=\"softmax\")\n",
        "])"
      ],
      "execution_count": 0,
      "outputs": []
    },
    {
      "cell_type": "code",
      "metadata": {
        "id": "qAtVM73vM02U",
        "colab_type": "code",
        "colab": {}
      },
      "source": [
        "# add optimzer and loss function\n",
        "model.compile(optimizer=\"adam\", loss=\"sparse_categorical_crossentropy\",metrics=[\"accuracy\"])"
      ],
      "execution_count": 0,
      "outputs": []
    },
    {
      "cell_type": "code",
      "metadata": {
        "id": "NbX2vVrqYAiu",
        "colab_type": "code",
        "outputId": "d0386eff-db6f-42ff-8b86-5eb88f185a4f",
        "colab": {
          "base_uri": "https://localhost:8080/",
          "height": 1000
        }
      },
      "source": [
        "model.fit(x_train,y_train,epochs=30)"
      ],
      "execution_count": 0,
      "outputs": [
        {
          "output_type": "stream",
          "text": [
            "Train on 100800 samples\n",
            "Epoch 1/30\n",
            "100800/100800 [==============================] - 9s 91us/sample - loss: 0.1944 - acc: 0.9438\n",
            "Epoch 2/30\n",
            "100800/100800 [==============================] - 9s 89us/sample - loss: 0.0752 - acc: 0.9772\n",
            "Epoch 3/30\n",
            "100800/100800 [==============================] - 9s 89us/sample - loss: 0.0486 - acc: 0.9847\n",
            "Epoch 4/30\n",
            "100800/100800 [==============================] - 9s 89us/sample - loss: 0.0335 - acc: 0.9898\n",
            "Epoch 5/30\n",
            "100800/100800 [==============================] - 9s 93us/sample - loss: 0.0244 - acc: 0.9925\n",
            "Epoch 6/30\n",
            "100800/100800 [==============================] - 9s 92us/sample - loss: 0.0192 - acc: 0.9940\n",
            "Epoch 7/30\n",
            "100800/100800 [==============================] - 9s 89us/sample - loss: 0.0148 - acc: 0.9955\n",
            "Epoch 8/30\n",
            "100800/100800 [==============================] - 9s 91us/sample - loss: 0.0127 - acc: 0.9958\n",
            "Epoch 9/30\n",
            "100800/100800 [==============================] - 9s 89us/sample - loss: 0.0104 - acc: 0.9967\n",
            "Epoch 10/30\n",
            "100800/100800 [==============================] - 9s 90us/sample - loss: 0.0080 - acc: 0.9976\n",
            "Epoch 11/30\n",
            "100800/100800 [==============================] - 9s 87us/sample - loss: 0.0082 - acc: 0.9973\n",
            "Epoch 12/30\n",
            "100800/100800 [==============================] - 9s 89us/sample - loss: 0.0067 - acc: 0.9980\n",
            "Epoch 13/30\n",
            "100800/100800 [==============================] - 9s 89us/sample - loss: 0.0061 - acc: 0.9980\n",
            "Epoch 14/30\n",
            "100800/100800 [==============================] - 9s 90us/sample - loss: 0.0055 - acc: 0.9981\n",
            "Epoch 15/30\n",
            "100800/100800 [==============================] - 9s 88us/sample - loss: 0.0046 - acc: 0.9985\n",
            "Epoch 16/30\n",
            "100800/100800 [==============================] - 9s 89us/sample - loss: 0.0044 - acc: 0.9985\n",
            "Epoch 17/30\n",
            "100800/100800 [==============================] - 9s 90us/sample - loss: 0.0046 - acc: 0.9984\n",
            "Epoch 18/30\n",
            "100800/100800 [==============================] - 9s 89us/sample - loss: 0.0046 - acc: 0.9984\n",
            "Epoch 19/30\n",
            "100800/100800 [==============================] - 9s 87us/sample - loss: 0.0040 - acc: 0.9987\n",
            "Epoch 20/30\n",
            "100800/100800 [==============================] - 9s 90us/sample - loss: 0.0041 - acc: 0.9985\n",
            "Epoch 21/30\n",
            "100800/100800 [==============================] - 9s 88us/sample - loss: 0.0031 - acc: 0.9989\n",
            "Epoch 22/30\n",
            "100800/100800 [==============================] - 9s 87us/sample - loss: 0.0048 - acc: 0.9985\n",
            "Epoch 23/30\n",
            "100800/100800 [==============================] - 9s 90us/sample - loss: 0.0032 - acc: 0.9989\n",
            "Epoch 24/30\n",
            "100800/100800 [==============================] - 9s 90us/sample - loss: 0.0041 - acc: 0.9987\n",
            "Epoch 25/30\n",
            "100800/100800 [==============================] - 9s 92us/sample - loss: 0.0024 - acc: 0.9992\n",
            "Epoch 26/30\n",
            "100800/100800 [==============================] - 9s 89us/sample - loss: 0.0034 - acc: 0.9989\n",
            "Epoch 27/30\n",
            "100800/100800 [==============================] - 9s 89us/sample - loss: 0.0028 - acc: 0.9991\n",
            "Epoch 28/30\n",
            "100800/100800 [==============================] - 9s 88us/sample - loss: 0.0039 - acc: 0.9987\n",
            "Epoch 29/30\n",
            "100800/100800 [==============================] - 9s 89us/sample - loss: 0.0036 - acc: 0.9988\n",
            "Epoch 30/30\n",
            "100800/100800 [==============================] - 9s 88us/sample - loss: 0.0025 - acc: 0.9992\n"
          ],
          "name": "stdout"
        },
        {
          "output_type": "execute_result",
          "data": {
            "text/plain": [
              "<tensorflow.python.keras.callbacks.History at 0x7f469c3222b0>"
            ]
          },
          "metadata": {
            "tags": []
          },
          "execution_count": 23
        }
      ]
    },
    {
      "cell_type": "code",
      "metadata": {
        "id": "ZKobsNA0aCr0",
        "colab_type": "code",
        "colab": {}
      },
      "source": [
        "prediction = model.predict(x_test)"
      ],
      "execution_count": 0,
      "outputs": []
    },
    {
      "cell_type": "code",
      "metadata": {
        "id": "KVJmTVlz80FR",
        "colab_type": "code",
        "outputId": "b1a6ab4f-959a-4a5f-ac49-31fbf11be556",
        "colab": {
          "base_uri": "https://localhost:8080/",
          "height": 34
        }
      },
      "source": [
        "prediction_classes = model.predict_classes(x_test)\n",
        "test_data.shape"
      ],
      "execution_count": 0,
      "outputs": [
        {
          "output_type": "execute_result",
          "data": {
            "text/plain": [
              "(28000, 28, 28)"
            ]
          },
          "metadata": {
            "tags": []
          },
          "execution_count": 25
        }
      ]
    },
    {
      "cell_type": "code",
      "metadata": {
        "id": "qNld8LAPCoBr",
        "colab_type": "code",
        "outputId": "bfd9b828-7cfa-4578-d3f1-1f0ace61ab13",
        "colab": {
          "base_uri": "https://localhost:8080/",
          "height": 34
        }
      },
      "source": [
        "# Accuracy for validation set\n",
        "accuracy_score(y_test,prediction_classes )"
      ],
      "execution_count": 0,
      "outputs": [
        {
          "output_type": "execute_result",
          "data": {
            "text/plain": [
              "0.9916071428571429"
            ]
          },
          "metadata": {
            "tags": []
          },
          "execution_count": 26
        }
      ]
    },
    {
      "cell_type": "code",
      "metadata": {
        "id": "gAU57uaS9rJv",
        "colab_type": "code",
        "outputId": "45b93c54-3238-4ce0-d0c0-3530d6285854",
        "colab": {
          "base_uri": "https://localhost:8080/",
          "height": 287
        }
      },
      "source": [
        "c_mtx = confusion_matrix(y_test,prediction_classes )\n",
        "sns.heatmap(c_mtx, annot=True, fmt='d')"
      ],
      "execution_count": 0,
      "outputs": [
        {
          "output_type": "execute_result",
          "data": {
            "text/plain": [
              "<matplotlib.axes._subplots.AxesSubplot at 0x7f46fa5634a8>"
            ]
          },
          "metadata": {
            "tags": []
          },
          "execution_count": 27
        },
        {
          "output_type": "display_data",
          "data": {
            "image/png": "[encoded data removed]",
            "text/plain": [
              "<Figure size 432x288 with 2 Axes>"
            ]
          },
          "metadata": {
            "tags": []
          }
        }
      ]
    },
    {
      "cell_type": "code",
      "metadata": {
        "id": "0lTxa3oduX7J",
        "colab_type": "code",
        "colab": {}
      },
      "source": [
        "#create submission.csv for kaggle \n",
        "sub_prediction = model.predict_classes(test_data)\n",
        "sub_prediction = pd.Series(sub_prediction, name = 'Label')\n",
        "submission = pd.concat([pd.Series(range(1, 28001), name = 'ImageId'), sub_prediction], axis = 1)\n",
        "submission.to_csv('Submission.csv', index = False)\n"
      ],
      "execution_count": 0,
      "outputs": []
    },
    {
      "cell_type": "code",
      "metadata": {
        "id": "oKDn1Q7653vg",
        "colab_type": "code",
        "outputId": "abe233ed-cace-49a2-a665-1db3009efc3d",
        "colab": {
          "base_uri": "https://localhost:8080/",
          "height": 1000
        }
      },
      "source": [
        "# Prediction vs Actual\n",
        "for i in range(5):\n",
        "  plt.grid(False)\n",
        "  plt.imshow((x_test[i]),cmap=plt.cm.binary)\n",
        "  plt.xlabel(\"Actual: \" + str(y_test[i]))\n",
        "  plt.title(\"Prediction: \" + str(prediction_classes[i]))\n",
        "  plt.show()"
      ],
      "execution_count": 0,
      "outputs": [
        {
          "output_type": "display_data",
          "data": {
            "image/png": "[encoded data removed]",
            "text/plain": [
              "<Figure size 432x288 with 1 Axes>"
            ]
          },
          "metadata": {
            "tags": []
          }
        },
        {
          "output_type": "display_data",
          "data": {
            "image/png": "[encoded data removed]",
            "text/plain": [
              "<Figure size 432x288 with 1 Axes>"
            ]
          },
          "metadata": {
            "tags": []
          }
        },
        {
          "output_type": "display_data",
          "data": {
            "image/png": "[encoded data removed]",
            "text/plain": [
              "<Figure size 432x288 with 1 Axes>"
            ]
          },
          "metadata": {
            "tags": []
          }
        },
        {
          "output_type": "display_data",
          "data": {
            "image/png": "[encoded data removed]",
            "text/plain": [
              "<Figure size 432x288 with 1 Axes>"
            ]
          },
          "metadata": {
            "tags": []
          }
        },
        {
          "output_type": "display_data",
          "data": {
            "image/png": "[encoded data removed]",
            "text/plain": [
              "<Figure size 432x288 with 1 Axes>"
            ]
          },
          "metadata": {
            "tags": []
          }
        }
      ]
    },
    {
      "cell_type": "code",
      "metadata": {
        "id": "QUrP0u696Bl9",
        "colab_type": "code",
        "colab": {}
      },
      "source": [
        ""
      ],
      "execution_count": 0,
      "outputs": []
    }
  ]
}
