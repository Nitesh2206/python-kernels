{
  "nbformat": 4,
  "nbformat_minor": 0,
  "metadata": {
    "colab": {
      "name": "keras tf2 digit recogniser ",
      "provenance": [],
      "collapsed_sections": [],
      "include_colab_link": true
    },
    "kernelspec": {
      "name": "python3",
      "display_name": "Python 3"
    },
    "accelerator": "GPU"
  },
  "cells": [
    {
      "cell_type": "markdown",
      "metadata": {
        "id": "view-in-github",
        "colab_type": "text"
      },
      "source": [
        "<a href=\"https://colab.research.google.com/github/Nitesh2206/python-kernels/blob/master/keras_tf2_digit_recogniser.ipynb\" target=\"_parent\"><img src=\"https://colab.research.google.com/assets/colab-badge.svg\" alt=\"Open In Colab\"/></a>"
      ]
    },
    {
      "cell_type": "code",
      "metadata": {
        "id": "ljpaxkPeJmbM",
        "colab_type": "code",
        "outputId": "5a432679-6b25-42fd-8153-603266fe5cbf",
        "colab": {
          "base_uri": "https://localhost:8080/",
          "height": 81
        }
      },
      "source": [
        "# Importing Libraries\n",
        "import tensorflow as tf\n",
        "from tensorflow import keras\n",
        "import numpy as np\n",
        "import pandas as pd\n",
        "import matplotlib.pyplot as plt\n",
        "from sklearn.metrics import accuracy_score,confusion_matrix\n",
        "from keras.utils import to_categorical\n",
        "from sklearn.model_selection import train_test_split\n",
        "import seaborn as sns\n",
        "from keras.preprocessing.image import ImageDataGenerator"
      ],
      "execution_count": 1,
      "outputs": [
        {
          "output_type": "display_data",
          "data": {
            "text/html": [
              "<p style=\"color: red;\">\n",
              "The default version of TensorFlow in Colab will soon switch to TensorFlow 2.x.<br>\n",
              "We recommend you <a href=\"https://www.tensorflow.org/guide/migrate\" target=\"_blank\">upgrade</a> now \n",
              "or ensure your notebook will continue to use TensorFlow 1.x via the <code>%tensorflow_version 1.x</code> magic:\n",
              "<a href=\"https://colab.research.google.com/notebooks/tensorflow_version.ipynb\" target=\"_blank\">more info</a>.</p>\n"
            ],
            "text/plain": [
              "<IPython.core.display.HTML object>"
            ]
          },
          "metadata": {
            "tags": []
          }
        },
        {
          "output_type": "stream",
          "text": [
            "Using TensorFlow backend.\n"
          ],
          "name": "stderr"
        }
      ]
    },
    {
      "cell_type": "code",
      "metadata": {
        "id": "XDeUIZPj6bbU",
        "colab_type": "code",
        "outputId": "ab6f99c7-c5bd-44b1-f7be-fdea3332ec74",
        "colab": {
          "base_uri": "https://localhost:8080/",
          "height": 105
        }
      },
      "source": [
        "# Connect to kaggle datasets\n",
        "import os\n",
        "os.environ['KAGGLE_USERNAME'] = \"nitesh2206\" # username from the json file \n",
        "os.environ['KAGGLE_KEY'] = \"b7f779b2ff8c8dd0f69306abbd30d0ad\" \n",
        "!kaggle competitions download -c digit-recognizer\n",
        "\n",
        "train_data = pd.read_csv(\"../content/train.csv.zip\")\n",
        "test_data = pd.read_csv(\"../content/test.csv.zip\")\n",
        "(train_data.shape,test_data.shape)"
      ],
      "execution_count": 6,
      "outputs": [
        {
          "output_type": "stream",
          "text": [
            "Warning: Looks like you're using an outdated API Version, please consider updating (server 1.5.6 / client 1.5.4)\n",
            "test.csv.zip: Skipping, found more recently modified local copy (use --force to force download)\n",
            "train.csv.zip: Skipping, found more recently modified local copy (use --force to force download)\n",
            "sample_submission.csv: Skipping, found more recently modified local copy (use --force to force download)\n"
          ],
          "name": "stdout"
        },
        {
          "output_type": "execute_result",
          "data": {
            "text/plain": [
              "((42000, 785), (28000, 784))"
            ]
          },
          "metadata": {
            "tags": []
          },
          "execution_count": 6
        }
      ]
    },
    {
      "cell_type": "code",
      "metadata": {
        "id": "XTm10p1b4OJ4",
        "colab_type": "code",
        "outputId": "c3f456dd-8493-46f4-820e-476306bf1e87",
        "colab": {
          "base_uri": "https://localhost:8080/",
          "height": 70
        }
      },
      "source": [
        "# get data from mnist and combine both training and test data\n",
        "data = keras.datasets.mnist\n",
        "(train_images, train_labels), (test_images, test_labels) = data.load_data()\n",
        "mnist_train_images = np.concatenate((train_images, test_images))\n",
        "mnist_train_labels = np.concatenate((train_labels, test_labels))\n",
        "(mnist_train_images.shape,mnist_train_labels.shape)"
      ],
      "execution_count": 8,
      "outputs": [
        {
          "output_type": "stream",
          "text": [
            "Downloading data from https://storage.googleapis.com/tensorflow/tf-keras-datasets/mnist.npz\n",
            "11493376/11490434 [==============================] - 0s 0us/step\n"
          ],
          "name": "stdout"
        },
        {
          "output_type": "execute_result",
          "data": {
            "text/plain": [
              "((70000, 28, 28), (70000,))"
            ]
          },
          "metadata": {
            "tags": []
          },
          "execution_count": 8
        }
      ]
    },
    {
      "cell_type": "code",
      "metadata": {
        "id": "v_g1t7jPffev",
        "colab_type": "code",
        "outputId": "9f01281c-9660-46e7-dbbd-f59cf5688234",
        "colab": {
          "base_uri": "https://localhost:8080/",
          "height": 34
        }
      },
      "source": [
        "# combine data from mnist and competition training for bigger training set\n",
        "x = np.array(train_data.drop(['label'], axis = 1))\n",
        "y = np.array(train_data['label'])\n",
        "test_data = np.array(test_data)\n",
        "\n",
        "x = x.reshape((x.shape[0], 28, 28))\n",
        "test_data = test_data.reshape(test_data.shape[0], 28, 28)\n",
        "\n",
        "x = np.concatenate((x, mnist_train_images))\n",
        "y = np.concatenate((y, mnist_train_labels))\n",
        "\n",
        "x = x/255.0\n",
        "test_data = test_data/255.0\n",
        "\n",
        "print(x.shape, y.shape, test_data.shape)"
      ],
      "execution_count": 9,
      "outputs": [
        {
          "output_type": "stream",
          "text": [
            "(112000, 28, 28) (112000,) (28000, 28, 28)\n"
          ],
          "name": "stdout"
        }
      ]
    },
    {
      "cell_type": "code",
      "metadata": {
        "id": "qo2GSJySqIeb",
        "colab_type": "code",
        "outputId": "72d03bad-ceea-4618-f6eb-289cb2e436d6",
        "colab": {
          "base_uri": "https://localhost:8080/",
          "height": 34
        }
      },
      "source": [
        "# split to training and validation set\n",
        "x_train, x_test, y_train, y_test = train_test_split(x, y, test_size = 0.10, shuffle = True)\n",
        "print(x_train.shape, y_train.shape, x_test.shape, y_test.shape)"
      ],
      "execution_count": 10,
      "outputs": [
        {
          "output_type": "stream",
          "text": [
            "(100800, 28, 28) (100800,) (11200, 28, 28) (11200,)\n"
          ],
          "name": "stdout"
        }
      ]
    },
    {
      "cell_type": "code",
      "metadata": {
        "id": "LBFYiPNOMcY8",
        "colab_type": "code",
        "colab": {
          "base_uri": "https://localhost:8080/",
          "height": 90
        },
        "outputId": "15deab49-cd6c-413f-af9a-73610f372844"
      },
      "source": [
        "# create the model\n",
        "model = keras.Sequential([\n",
        "                          keras.layers.Flatten(input_shape=(28,28)),\n",
        "                          keras.layers.Dense(128,activation=\"relu\"),\n",
        "                          keras.layers.Dense(10,activation=\"softmax\")\n",
        "])"
      ],
      "execution_count": 11,
      "outputs": [
        {
          "output_type": "stream",
          "text": [
            "WARNING:tensorflow:From /usr/local/lib/python3.6/dist-packages/tensorflow_core/python/ops/resource_variable_ops.py:1630: calling BaseResourceVariable.__init__ (from tensorflow.python.ops.resource_variable_ops) with constraint is deprecated and will be removed in a future version.\n",
            "Instructions for updating:\n",
            "If using Keras pass *_constraint arguments to layers.\n"
          ],
          "name": "stdout"
        }
      ]
    },
    {
      "cell_type": "code",
      "metadata": {
        "id": "qAtVM73vM02U",
        "colab_type": "code",
        "colab": {}
      },
      "source": [
        "# add optimzer and loss function\n",
        "model.compile(optimizer=\"adam\", loss=\"sparse_categorical_crossentropy\",metrics=[\"accuracy\"])"
      ],
      "execution_count": 0,
      "outputs": []
    },
    {
      "cell_type": "code",
      "metadata": {
        "id": "NbX2vVrqYAiu",
        "colab_type": "code",
        "outputId": "d67eaa99-dab4-4e9a-e7fd-25ff0ae5e148",
        "colab": {
          "base_uri": "https://localhost:8080/",
          "height": 1000
        }
      },
      "source": [
        "model.fit(x_train,y_train,epochs=30)"
      ],
      "execution_count": 13,
      "outputs": [
        {
          "output_type": "stream",
          "text": [
            "Train on 100800 samples\n",
            "Epoch 1/30\n",
            "100800/100800 [==============================] - 9s 94us/sample - loss: 0.2018 - acc: 0.9419\n",
            "Epoch 2/30\n",
            "100800/100800 [==============================] - 9s 87us/sample - loss: 0.0782 - acc: 0.9767\n",
            "Epoch 3/30\n",
            "100800/100800 [==============================] - 9s 87us/sample - loss: 0.0496 - acc: 0.9849\n",
            "Epoch 4/30\n",
            "100800/100800 [==============================] - 9s 87us/sample - loss: 0.0340 - acc: 0.9897\n",
            "Epoch 5/30\n",
            "100800/100800 [==============================] - 9s 87us/sample - loss: 0.0261 - acc: 0.9920\n",
            "Epoch 6/30\n",
            "100800/100800 [==============================] - 9s 86us/sample - loss: 0.0192 - acc: 0.9940\n",
            "Epoch 7/30\n",
            "100800/100800 [==============================] - 9s 87us/sample - loss: 0.0157 - acc: 0.9951\n",
            "Epoch 8/30\n",
            "100800/100800 [==============================] - 9s 86us/sample - loss: 0.0124 - acc: 0.9961\n",
            "Epoch 9/30\n",
            "100800/100800 [==============================] - 9s 87us/sample - loss: 0.0102 - acc: 0.9968\n",
            "Epoch 10/30\n",
            "100800/100800 [==============================] - 9s 88us/sample - loss: 0.0098 - acc: 0.9968\n",
            "Epoch 11/30\n",
            "100800/100800 [==============================] - 9s 89us/sample - loss: 0.0067 - acc: 0.9979\n",
            "Epoch 12/30\n",
            "100800/100800 [==============================] - 9s 88us/sample - loss: 0.0064 - acc: 0.9981\n",
            "Epoch 13/30\n",
            "100800/100800 [==============================] - 9s 85us/sample - loss: 0.0064 - acc: 0.9977\n",
            "Epoch 14/30\n",
            "100800/100800 [==============================] - 9s 87us/sample - loss: 0.0056 - acc: 0.9982\n",
            "Epoch 15/30\n",
            "100800/100800 [==============================] - 9s 88us/sample - loss: 0.0051 - acc: 0.9983\n",
            "Epoch 16/30\n",
            "100800/100800 [==============================] - 9s 85us/sample - loss: 0.0053 - acc: 0.9982\n",
            "Epoch 17/30\n",
            "100800/100800 [==============================] - 9s 86us/sample - loss: 0.0039 - acc: 0.9987\n",
            "Epoch 18/30\n",
            "100800/100800 [==============================] - 9s 86us/sample - loss: 0.0038 - acc: 0.9987\n",
            "Epoch 19/30\n",
            "100800/100800 [==============================] - 9s 85us/sample - loss: 0.0043 - acc: 0.9984\n",
            "Epoch 20/30\n",
            "100800/100800 [==============================] - 9s 85us/sample - loss: 0.0033 - acc: 0.9989\n",
            "Epoch 21/30\n",
            "100800/100800 [==============================] - 9s 86us/sample - loss: 0.0035 - acc: 0.9989\n",
            "Epoch 22/30\n",
            "100800/100800 [==============================] - 9s 86us/sample - loss: 0.0041 - acc: 0.9987\n",
            "Epoch 23/30\n",
            "100800/100800 [==============================] - 9s 87us/sample - loss: 0.0037 - acc: 0.9988\n",
            "Epoch 24/30\n",
            "100800/100800 [==============================] - 9s 87us/sample - loss: 0.0038 - acc: 0.9988\n",
            "Epoch 25/30\n",
            "100800/100800 [==============================] - 9s 87us/sample - loss: 0.0040 - acc: 0.9988\n",
            "Epoch 26/30\n",
            "100800/100800 [==============================] - 9s 86us/sample - loss: 0.0033 - acc: 0.9990\n",
            "Epoch 27/30\n",
            "100800/100800 [==============================] - 9s 87us/sample - loss: 0.0030 - acc: 0.9991\n",
            "Epoch 28/30\n",
            "100800/100800 [==============================] - 9s 87us/sample - loss: 0.0030 - acc: 0.9989\n",
            "Epoch 29/30\n",
            "100800/100800 [==============================] - 9s 88us/sample - loss: 0.0030 - acc: 0.9991\n",
            "Epoch 30/30\n",
            "100800/100800 [==============================] - 9s 91us/sample - loss: 0.0029 - acc: 0.9991\n"
          ],
          "name": "stdout"
        },
        {
          "output_type": "execute_result",
          "data": {
            "text/plain": [
              "<tensorflow.python.keras.callbacks.History at 0x7f1066bed9e8>"
            ]
          },
          "metadata": {
            "tags": []
          },
          "execution_count": 13
        }
      ]
    },
    {
      "cell_type": "code",
      "metadata": {
        "id": "ZKobsNA0aCr0",
        "colab_type": "code",
        "colab": {}
      },
      "source": [
        "prediction = model.predict(x_test)"
      ],
      "execution_count": 0,
      "outputs": []
    },
    {
      "cell_type": "code",
      "metadata": {
        "id": "KVJmTVlz80FR",
        "colab_type": "code",
        "outputId": "2a486174-5966-4dc2-a86a-ba80d1b59044",
        "colab": {
          "base_uri": "https://localhost:8080/",
          "height": 34
        }
      },
      "source": [
        "prediction_classes = model.predict_classes(x_test)\n",
        "test_data.shape"
      ],
      "execution_count": 21,
      "outputs": [
        {
          "output_type": "execute_result",
          "data": {
            "text/plain": [
              "(28000, 28, 28)"
            ]
          },
          "metadata": {
            "tags": []
          },
          "execution_count": 21
        }
      ]
    },
    {
      "cell_type": "code",
      "metadata": {
        "id": "qNld8LAPCoBr",
        "colab_type": "code",
        "outputId": "b59b401f-8d3d-472b-bc77-1111c0861cea",
        "colab": {
          "base_uri": "https://localhost:8080/",
          "height": 34
        }
      },
      "source": [
        "# Accuracy for validation set\n",
        "accuracy_score(y_test,prediction_classes )"
      ],
      "execution_count": 22,
      "outputs": [
        {
          "output_type": "execute_result",
          "data": {
            "text/plain": [
              "0.9950892857142857"
            ]
          },
          "metadata": {
            "tags": []
          },
          "execution_count": 22
        }
      ]
    },
    {
      "cell_type": "code",
      "metadata": {
        "id": "gAU57uaS9rJv",
        "colab_type": "code",
        "outputId": "58ffc7fe-9cb4-45f5-8cf8-fd79ebcc0896",
        "colab": {
          "base_uri": "https://localhost:8080/",
          "height": 282
        }
      },
      "source": [
        "c_mtx = confusion_matrix(y_test,prediction_classes )\n",
        "sns.heatmap(c_mtx, annot=True, fmt='d')"
      ],
      "execution_count": 23,
      "outputs": [
        {
          "output_type": "execute_result",
          "data": {
            "text/plain": [
              "<matplotlib.axes._subplots.AxesSubplot at 0x7f1008ab0da0>"
            ]
          },
          "metadata": {
            "tags": []
          },
          "execution_count": 23
        },
        {
          "output_type": "display_data",
          "data": {
            "image/png": "[encoded data removed]",
            "text/plain": [
              "<Figure size 432x288 with 2 Axes>"
            ]
          },
          "metadata": {
            "tags": []
          }
        }
      ]
    },
    {
      "cell_type": "code",
      "metadata": {
        "id": "0lTxa3oduX7J",
        "colab_type": "code",
        "colab": {}
      },
      "source": [
        "#create submission.csv for kaggle \n",
        "sub_prediction = model.predict_classes(test_data)\n",
        "sub_prediction = pd.Series(sub_prediction, name = 'Label')\n",
        "submission = pd.concat([pd.Series(range(1, 28001), name = 'ImageId'), sub_prediction], axis = 1)\n",
        "submission.to_csv('Submission.csv', index = False)\n"
      ],
      "execution_count": 0,
      "outputs": []
    },
    {
      "cell_type": "code",
      "metadata": {
        "id": "O0ntas052kc7",
        "colab_type": "code",
        "colab": {
          "base_uri": "https://localhost:8080/",
          "height": 34
        },
        "outputId": "357674c6-9ba7-4549-968b-a96b58d3ddca"
      },
      "source": [
        "incorrect_predtns = np.where(y_test!=prediction_classes)[0]\n",
        "len(incorrect_predtns) # total  number of predictions that went wrong"
      ],
      "execution_count": 41,
      "outputs": [
        {
          "output_type": "execute_result",
          "data": {
            "text/plain": [
              "55"
            ]
          },
          "metadata": {
            "tags": []
          },
          "execution_count": 41
        }
      ]
    },
    {
      "cell_type": "code",
      "metadata": {
        "id": "UxfP8p0L2e56",
        "colab_type": "code",
        "colab": {
          "base_uri": "https://localhost:8080/",
          "height": 865
        },
        "outputId": "2b3ce740-6b0f-4d96-d07d-e0987b1487e4"
      },
      "source": [
        "# check the first 25 incorrect predictions\n",
        "fig, axs = plt.subplots(5, 5,figsize=(15, 15))\n",
        "for i in range(5):\n",
        "  for j in range(5):\n",
        "    \n",
        "    idx = incorrect_predtns[:25].reshape(5,5)[i,j]\n",
        "    axs[i, j].imshow((x_test[idx]),cmap=plt.cm.binary)\n",
        "    axs[i, j].set_title(\"Prediction: \" + str(prediction_classes[idx]) + \" Actual: \" + str(y_test[idx]))\n",
        "\n",
        "# clear ticks\n",
        "for ax in axs.flat:\n",
        "    ax.set_xticks([])\n",
        "    ax.set_yticks([])"
      ],
      "execution_count": 80,
      "outputs": [
        {
          "output_type": "display_data",
          "data": {
            "image/png": "[encoded data removed]",
            "text/plain": [
              "<Figure size 1080x1080 with 25 Axes>"
            ]
          },
          "metadata": {
            "tags": []
          }
        }
      ]
    },
    {
      "cell_type": "code",
      "metadata": {
        "id": "9Wfd_og0Fnq9",
        "colab_type": "code",
        "colab": {}
      },
      "source": [
        ""
      ],
      "execution_count": 0,
      "outputs": []
    }
  ]
}